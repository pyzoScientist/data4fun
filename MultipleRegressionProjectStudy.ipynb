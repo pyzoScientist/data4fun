{
  "nbformat": 4,
  "nbformat_minor": 0,
  "metadata": {
    "colab": {
      "name": "MultipleRegressionProjectStudy",
      "provenance": [],
      "collapsed_sections": [],
      "authorship_tag": "ABX9TyOp3mAvc+NPpEAr6uiKsMjZ",
      "include_colab_link": true
    },
    "kernelspec": {
      "name": "python3",
      "display_name": "Python 3"
    },
    "language_info": {
      "name": "python"
    }
  },
  "cells": [
    {
      "cell_type": "markdown",
      "metadata": {
        "id": "view-in-github",
        "colab_type": "text"
      },
      "source": [
        "<a href=\"https://colab.research.google.com/github/pyzoScientist/data4fun/blob/main/MultipleRegressionProjectStudy.ipynb\" target=\"_parent\"><img src=\"https://colab.research.google.com/assets/colab-badge.svg\" alt=\"Open In Colab\"/></a>"
      ]
    },
    {
      "cell_type": "code",
      "execution_count": null,
      "metadata": {
        "id": "AdAkkVQxsRpu"
      },
      "outputs": [],
      "source": [
        "#time series classical\n",
        "#https://otexts.com/fpp2/advanced.html\n",
        "#file:///E:/risk%20analytics/books/forecasting/Introduction%20to%20Time%20Series%20Forecasting%20with%20Python%20How%20to%20Prepare%20Data%20and%20Develop%20Models%20to%20Predict%20the%20Future%20by%20Jason%20Brownlee%20(z-lib.org).pdf\n",
        "#https://1lib.in/s/time%20series%20python\n",
        "\n",
        "\n",
        "#https://www.kaggle.com/jagangupta/time-series-basics-exploring-traditional-ts/notebook\n",
        "#https://www.kaggle.com/raenish/time-series-on-air-quality/report\n",
        "#https://www.kaggle.com/c/competitive-data-science-predict-future-sales/data\n",
        "#https://towardsdatascience.com/defining-the-moving-average-model-for-time-series-forecasting-in-python-626781db2502\n",
        "\n",
        "#ml for forecasting\n",
        "#https://www.kaggle.com/ryanholbrook/forecasting-with-machine-learning\n",
        "#https://machinelearningmastery.com/convert-time-series-supervised-learning-problem-python/\n",
        "#https://machinelearningmastery.com/convert-time-series-supervised-learning-problem-python/\n",
        "#https://machinelearningmastery.com/multi-step-time-series-forecasting-with-machine-learning-models-for-household-electricity-consumption/\n",
        "#https://machinelearningmastery.com/how-to-develop-machine-learning-models-for-multivariate-multi-step-air-pollution-time-series-forecasting/\n",
        "#https://machinelearningmastery.com/backtest-machine-learning-models-time-series-forecasting/\n",
        "#https://towardsdatascience.com/ml-approaches-for-time-series-4d44722e48fe\n",
        "#https://towardsdatascience.com/classical-time-series-vs-machine-learning-methods-80290850bd5b\n",
        "#https://towardsdatascience.com/simple-guide-on-using-supervised-learning-model-to-forecast-for-time-series-data-a570720add84\n",
        "#https://towardsdatascience.com/time-series-forecasting-with-machine-learning-b3072a5b44ba\n",
        "#https://pub.towardsai.net/time-series-analysis-hands-on-with-scikit-learn-feature-engineering-1e958e6534da\n",
        "\n",
        "#https://github.com/sxg171731/Demand-Forecasting-ARIMA-Time-Series-/blob/master/Demand%20Forecasting.ipynb\n",
        "#https://github.com/sujikathir/Intermittent-demand-forecasting\n",
        "\n",
        "\n",
        "#feature selection for time series\n",
        "#https://hub.packtpub.com/cross-validation-strategies-for-time-series-forecasting-tutorial/\n",
        "#https://www.kaggle.com/kashnitsky/topic-9-part-1-time-series-analysis-in-python#Feature-exctraction\n",
        "#https://machinelearningmastery.com/feature-selection-time-series-forecasting-python/\n",
        "#https://medium.com/analytics-vidhya/demystifying-feature-engineering-and-selection-for-driver-based-forecasting-50ba9b5a0fbc\n",
        "#https://www.google.co.in/search?q=feature+selection+time+series&sxsrf=APq-WBscHkonCvF9L3I8ee8ln3V2AsdmqQ%3A1646410859542&ei=azwiYoHYIJKhoAT9-6mQCw&ved=0ahUKEwjBub-z7qz2AhWSEIgKHf19CrIQ4dUDCA8&uact=5&oq=feature+selection+time+series&gs_lcp=Cgdnd3Mtd2l6EAMyBQgAEIAEMgYIABAWEB4yBggAEBYQHjIGCAAQFhAeMgYIABAWEB4yBggAEBYQHjIGCAAQFhAeMgYIABAWEB4yBggAEBYQHjIICAAQFhAKEB46BAgjECc6BQgAEJECOhEILhCABBCxAxCDARDHARDRAzoLCAAQgAQQsQMQgwE6DgguEIAEELEDEIMBENQCOggIABCxAxCDAToECAAQQzoNCC4QsQMQxwEQowIQQzoHCAAQsQMQQzoKCAAQsQMQgwEQQzoKCC4QsQMQ1AIQQzoQCAAQgAQQhwIQsQMQgwEQFDoNCAAQgAQQhwIQsQMQFDoICAAQsQMQkQI6CAgAEIAEELEDOgoIABCABBCHAhAUOgQIABANOgYIABANEB46CAgAEAgQDRAeSgQIQRgASgQIRhgAUABYmyxgiS9oAnABeAGAAdoEiAGDP5IBCjItMjAuNi4wLjKYAQCgAQHAAQE&sclient=gws-wiz\n",
        "#https://www.google.co.in/search?q=lag+window+size+using+cross+validation&sxsrf=APq-WBv28gkQDXXtHcbdqZrs-bRdKE-hfA%3A1646410845358&source=hp&ei=XTwiYseTE9WkoAT12LMw&iflsig=AHkkrS4AAAAAYiJKbcNsqZ6aOx2sEuzdzvg7y_OZXJ0u&ved=0ahUKEwiHttus7qz2AhVVEogKHXXsDAYQ4dUDCAg&uact=5&oq=lag+window+size+using+cross+validation&gs_lcp=Cgdnd3Mtd2l6EAMyBwghEAoQoAE6BwgjEOoCECc6BAgjECc6CggAELEDEIMBEEM6CAgAELEDEIMBOgsIABCABBCxAxCDAToLCC4QgAQQsQMQgwE6CAgAEIAEELEDOgQIABBDOg0ILhCxAxDHARDRAxBDOgcIABCxAxBDOgcILhDUAhBDOgsIABCxAxCDARDJAzoFCAAQgAQ6CwguEIAEELEDENQCOgYIABAWEB46CAgAEBYQChAeOggIIRAWEB0QHjoECCEQFToFCCEQoAFQ7AhYmFVg2VloAnAAeAGAAeEFiAHrW5IBDDItMjcuOC4xLjIuMZgBAKABAbABCg&sclient=gws-wiz\n",
        "#https://www.google.co.in/search?q=feature+selection+lasso+time+series&sxsrf=APq-WBvHAh8LuTGGUlcRRaErea_h5gjiEQ%3A1646410913265&ei=oTwiYsnqD6iA1e8P64iL2A4&ved=0ahUKEwiJv47N7qz2AhUoQPUHHWvEAusQ4dUDCA8&uact=5&oq=feature+selection+lasso+time+series&gs_lcp=Cgdnd3Mtd2l6EAMyBQgAEKIEMgUIABCiBDIFCAAQogQyBQgAEKIEOgcIABBHELADSgQIQRgASgQIRhgAULEJWMYPYMAUaAFwAXgAgAHHAogBgQySAQUyLTUuMZgBAKABAcgBCMABAQ&sclient=gws-wiz\n",
        "\n",
        "#https://machinelearningmastery.com/sensitivity-analysis-history-size-forecast-skill-arima-python/\n",
        "\n",
        "\n",
        "\n",
        "\n",
        "\n",
        "\n",
        "\n",
        "\n",
        "\n",
        "#linked in profiles\n",
        "#https://www.linkedin.com/in/akshay-kher\n",
        "#https://www.linkedin.com/in/kapil-sharma-6462ba157/\n",
        "#https://www.linkedin.com/in/ankitapaunikar\n",
        "#https://in.linkedin.com/in/shubham-deshmukh-271299221\n",
        "#https://www.linkedin.com/in/raman-singh-84866237\n",
        "\n",
        "\n",
        "\n",
        "#project topics\n",
        "#1] scorecard pd lgd ead\n",
        "#2] customer segmentation of bank customers\n",
        "#https://www.kaggle.com/search?q=bank+customer+segmentation+in%3Anotebooks\n",
        "#https://www.google.com/search?q=alllife+bank+customer+segmentation+kaggle&sxsrf=APq-WBu_OOBUiDCRuWoP2g7INYIhXMcY1g%3A1646388655904&ei=r-UhYpfcNvqEr7wPkOiVqAk&oq=bank+customersegmentation+kaggle&gs_lcp=Cgdnd3Mtd2l6EAEYATIECAAQDTIICAAQDRAFEB46BwgAEEcQsANKBAhBGABKBAhGGABQ-QJYiw5g_ChoAXABeACAAaQCiAHbFpIBBjAuMi4xMJgBAKABAcgBCMABAQ&sclient=gws-wiz\n",
        "#https://www.google.com/search?q=bank+customer+churn+prediction+kaggle&sxsrf=APq-WBu7dMatn43-VvMpwtVJUXLUS-JKSQ%3A1646388642024&ei=ouUhYsx0-4SvvA-j2ITwDg&ved=0ahUKEwjMza3Rm6z2AhV7wosBHSMsAe4Q4dUDCA8&uact=5&oq=bank+customer+churn+prediction+kaggle&gs_lcp=Cgdnd3Mtd2l6EAMyBQgAEIAEOgQIIxAnOgUIABCRAjoRCC4QgAQQsQMQgwEQxwEQ0QM6CAguELEDEIMBOggIABCABBCxAzoLCC4QsQMQgwEQ1AI6CAguEIAEELEDOgsIABCABBCxAxCDAToECC4QQzoECAAQQzoQCC4QsQMQgwEQxwEQowIQQzoKCC4QxwEQowIQQzoHCAAQyQMQQzoFCAAQkgM6DQguELEDEMcBEKMCEEM6EwguEIAEEIcCELEDEMcBEKMCEBQ6FgguEIAEEIcCELEDEIMBEMcBEKMCEBQ6DgguEIAEELEDEMcBEKMCOhEILhCABBCxAxCDARDHARCjAjoICAAQgAQQyQM6CggAEIAEEIcCEBQ6BggAEBYQHkoECEEYAEoECEYYAFAAWMQnYLwqaABwAXgAgAHwAogB30GSAQgwLjIuMzEuM5gBAKABAcABAQ&sclient=gws-wiz\n",
        "#https://www.google.com/search?q=customer+churn+prediction+python+github&sxsrf=APq-WBvbvRFsuTwPj8gr1sOVyYxQZoUC6A%3A1646388579332&ei=Y-UhYsHgE9qTr7wPmJ608Ag&ved=0ahUKEwiBnruzm6z2AhXayYsBHRgPDY4Q4dUDCA8&uact=5&oq=customer+churn+prediction+python+github&gs_lcp=Cgdnd3Mtd2l6EAMyBggAEBYQHjoECCMQJzoECAAQQzoFCAAQkQI6CggAELEDEIMBEEM6BwgAELEDEEM6CAgAEIAEELEDOg0IABCABBCHAhCxAxAUOgoIABCABBCHAhAUOgUIABCABEoECEEYAEoECEYYAFAAWMiKAWDzjgFoAXABeACAAcwCiAHUSZIBCDAuNi4zMi4xmAEAoAEBwAEB&sclient=gws-wiz\n",
        "\n",
        "#3] recommendation system\n",
        "#4] Forecasting #https://in.linkedin.com/in/sri-rashmitha-boya \n",
        "#4] churn prediction\n",
        "#https://www.google.com/search?q=bank+customer+churn+prediction+kaggle&sxsrf=APq-WBu7dMatn43-VvMpwtVJUXLUS-JKSQ%3A1646388642024&ei=ouUhYsx0-4SvvA-j2ITwDg&ved=0ahUKEwjMza3Rm6z2AhV7wosBHSMsAe4Q4dUDCA8&uact=5&oq=bank+customer+churn+prediction+kaggle&gs_lcp=Cgdnd3Mtd2l6EAMyBQgAEIAEOgQIIxAnOgUIABCRAjoRCC4QgAQQsQMQgwEQxwEQ0QM6CAguELEDEIMBOggIABCABBCxAzoLCC4QsQMQgwEQ1AI6CAguEIAEELEDOgsIABCABBCxAxCDAToECC4QQzoECAAQQzoQCC4QsQMQgwEQxwEQowIQQzoKCC4QxwEQowIQQzoHCAAQyQMQQzoFCAAQkgM6DQguELEDEMcBEKMCEEM6EwguEIAEEIcCELEDEMcBEKMCEBQ6FgguEIAEEIcCELEDEIMBEMcBEKMCEBQ6DgguEIAEELEDEMcBEKMCOhEILhCABBCxAxCDARDHARCjAjoICAAQgAQQyQM6CggAEIAEEIcCEBQ6BggAEBYQHkoECEEYAEoECEYYAFAAWMQnYLwqaABwAXgAgAHwAogB30GSAQgwLjIuMzEuM5gBAKABAcABAQ&sclient=gws-wiz\n",
        "#5] sentiment analysis\n",
        "#6] customer lifetime value modelling\n",
        "#https://www.google.com/search?q=customer-lifetime+value+modeling+kaggle&sxsrf=APq-WBuAhEvkPEWNx5Q9UdaP9xGBaZNGkw%3A1646389773881&ei=DeohYte1NfKYseMP4LmvgA4&ved=0ahUKEwiX8Ijtn6z2AhVyTGwGHeDcC-AQ4dUDCA8&uact=5&oq=customer-lifetime+value+modeling+kaggle&gs_lcp=Cgdnd3Mtd2l6EAMyCAghEBYQHRAeMggIIRAWEB0QHjIICCEQFhAdEB46BwgjELADECc6BwgAEEcQsAM6BggAEBYQHkoECEEYAEoECEYYAFDcBFjpC2CFD2gBcAF4AIAB1AKIAd8NkgEFMi02LjGYAQCgAQHIAQnAAQE&sclient=gws-wiz\n",
        "##https://www.google.com/search?q=customer-lifetime+value+modeling&sourceid=chrome&ie=UTF-8\n",
        "#7] attrition rate  [kaggle, machinehack, datahack, analytics vidya, github]\n",
        "#8] #customer complaint classification\n",
        "\n",
        "\n",
        "\n",
        "\n",
        "#4] forecasting projects\n",
        "#https://colab.research.google.com/drive/1SVUE6fSrXjcY2EQ6VSwfdHe5VY-GCgy_\n",
        "\n",
        "\n",
        "\n",
        "\n",
        "\n",
        "\n",
        "\n",
        "#source of reference fore forecasting with exponential methods\n",
        "#https://github.com/statsmodels/statsmodels/blob/main/statsmodels/tsa/holtwinters/model.py\n",
        "#https://www.statsmodels.org/devel/examples/notebooks/generated/exponential_smoothing.html#Simple-Exponential-Smoothing\n",
        "#file:///E:/risk%20analytics/books/forecasting/Hands-on%20Time%20Series%20Analysis%20With%20Python%20From%20Basics%20To%20Bleeding%20Edge%20Techniques%20by%20B.%20V.%20Vishwas,%20Ashish%20Patel%20(z-lib.org).pdf\n",
        "\n",
        "#arguements in exponential methods\n",
        "#1] always present\n",
        "# (data, initialization method).fit(params = 1 or 2 or 3, optimized, use box cox)\n",
        "#2] model dependent\n",
        "#(trend = add or mul, dampen trend or not, season = add or mul, seasonal periods).fit(dampening factor if trend dampened)\n",
        "\n",
        "\n",
        "#more about smoothing methods\n",
        "#https://towardsdatascience.com/time-series-in-python-exponential-smoothing-and-arima-processes-2c67f2a52788\n",
        "#https://towardsdatascience.com/time-series-in-python-part-2-dealing-with-seasonal-data-397a65b74051\n",
        "#https://medium.com/analytics-vidhya/python-code-on-holt-winters-forecasting-3843808a9873\n",
        "#https://ethen8181.github.io/machine-learning/time_series/1_exponential_smoothing.html\n",
        "#https://towardsdatascience.com/time-series-from-scratch-exponential-smoothing-theory-and-implementation-6683eb271bad\n",
        "\n",
        "#projects\n",
        "#https://www.google.com/search?q=holt-winters+python+github.io&sxsrf=APq-WBvMNL3Fjh8HYVf4a_gofIp1wrC_mw%3A1647357812431&ei=dK8wYrPoGavl2roPpKuG6Ac&ved=0ahUKEwiz8uiJtsj2AhWrslYBHaSVAX0Q4dUDCA4&uact=5&oq=holt-winters+python+github.io&gs_lcp=Cgdnd3Mtd2l6EAMyBQgAEKIEMgUIABCiBDoHCCMQ6gIQJzoECCMQJzoQCC4QsQMQgwEQxwEQ0QMQQzoLCAAQgAQQsQMQgwE6BwgAELEDEEM6CAguENQCEJECOgUIABCRAjoHCC4Q1AIQQzoOCC4QgAQQsQMQxwEQ0QM6CAgAELEDEIMBOg4ILhCxAxDHARDRAxCRAjoICAAQsQMQkQI6CggAELEDEIMBEEM6BQgAEIAEOggILhCABBCxAzoICAAQgAQQsQM6CwguEIAEEMcBENEDOgcIABCABBAKOgQIABANOgYIABAHEB46CAgAEAgQBxAeOgYIABAWEB46BQghEKABSgQIQRgASgQIRhgAUABYnvIBYOr3AWgGcAF4AIAB-QKIAas5kgEIMC42LjIzLjKYAQCgAQGwAQrAAQE&sclient=gws-wiz\n",
        "#https://pawarbi.github.io/blog/forecasting/r/python/rpy2/altair/fbprophet/ensemble_forecast/uncertainty/simulation/2020/04/21/timeseries-part2.html\n",
        "#https://towardsdatascience.com/time-series-analysis-modeling-validation-386378cd3369\n",
        "\n",
        "#time series cross validation\n",
        "#https://medium.com/@soumyachess1496/cross-validation-in-time-series-566ae4981ce4\n",
        "\n",
        "\n",
        "\n",
        "#** Following models are evaluated\n",
        "#1] Benchmark Models : Simple Average, Naive etc\n",
        "#2] ETS models : \n",
        "#   Single Exponential Smoothing:            Neither trend nor seasonality     ~  single smoothing parameter\n",
        "#   Double Exponential Smoothing :           Trend but no seasonality         ~  double smoothing parameter\n",
        "#   [holt trend linear model]  \n",
        "#   Triple Exponential Smoothing :           Trend + seasonality              ~  triple smoothing parameter \n",
        "#   [winter holt model]\n",
        "#3] ARIMA + SARIMA\n",
        "#4] Machine Learning Models\n",
        "#5] Deep Learning Models  [LSTM/CNN]\n"
      ]
    },
    {
      "cell_type": "code",
      "source": [
        "print(\" #_# \"*12, \"load data\", \" #_# \"*12)"
      ],
      "metadata": {
        "colab": {
          "base_uri": "https://localhost:8080/"
        },
        "id": "lUEVgGKj7WgS",
        "outputId": "2c94e75d-fa67-487c-bde5-7abca1022f76"
      },
      "execution_count": null,
      "outputs": [
        {
          "output_type": "stream",
          "name": "stdout",
          "text": [
            " #_#  #_#  #_#  #_#  #_#  #_#  #_#  #_#  #_#  #_#  #_#  #_#  load data  #_#  #_#  #_#  #_#  #_#  #_#  #_#  #_#  #_#  #_#  #_#  #_# \n"
          ]
        }
      ]
    },
    {
      "cell_type": "code",
      "source": [
        "def timeseries_evaluation_metrics_func(y_true, y_pred):\n",
        "  print(\"MSE   : \", mean_squared_error(y_true, y_pred))\n",
        "  print(\"MAE   : \", mean_absolute_error(y_true, y_pred))\n",
        "  print(\"RMSE  : \", np.sqrt(mean_squared_error(y_true, y_pred)))\n",
        "  print(\"MAPE  : \", mean_absolute_percentage_error(y_true, y_pred)*100)\n",
        "  print(\"r2_score : \", r2_score(y_true, y_pred))"
      ],
      "metadata": {
        "id": "jh5xfR4XqqLq"
      },
      "execution_count": null,
      "outputs": []
    },
    {
      "cell_type": "code",
      "source": [
        "import pandas as pd"
      ],
      "metadata": {
        "id": "ZjxC7_VAr74-"
      },
      "execution_count": null,
      "outputs": []
    },
    {
      "cell_type": "code",
      "source": [
        "df = pd.read_csv(r\"https://raw.githubusercontent.com/Apress/hands-on-time-series-analylsis-python/master/Data/FB.csv\")"
      ],
      "metadata": {
        "id": "FziIAe2Qro9S"
      },
      "execution_count": null,
      "outputs": []
    },
    {
      "cell_type": "code",
      "source": [
        "series = df['Close']"
      ],
      "metadata": {
        "id": "9IZ0xDcMsPkj"
      },
      "execution_count": null,
      "outputs": []
    },
    {
      "cell_type": "code",
      "source": [
        "split_point = -30\n",
        "train = series.iloc[:split_point]\n",
        "test = series.iloc[split_point:]"
      ],
      "metadata": {
        "id": "h8eh5TdjsVhy"
      },
      "execution_count": null,
      "outputs": []
    },
    {
      "cell_type": "code",
      "source": [
        "from statsmodels.tsa.api import SimpleExpSmoothing\n",
        "import numpy as np\n",
        "from sklearn.metrics import mean_squared_error\n",
        "import matplotlib.pyplot as plt\n",
        "from sklearn.model_selection import TimeSeriesSplit\n",
        "from sklearn.model_selection import cross_val_score"
      ],
      "metadata": {
        "id": "sPcJbvOXseJi"
      },
      "execution_count": null,
      "outputs": []
    },
    {
      "cell_type": "code",
      "source": [
        "print(np.linspace(0,1,11))"
      ],
      "metadata": {
        "colab": {
          "base_uri": "https://localhost:8080/"
        },
        "id": "1_IDWbr_Qz4W",
        "outputId": "ea92f6f7-cc3c-4a25-e316-c062c6b1e0e9"
      },
      "execution_count": null,
      "outputs": [
        {
          "output_type": "stream",
          "name": "stdout",
          "text": [
            "[0.  0.1 0.2 0.3 0.4 0.5 0.6 0.7 0.8 0.9 1. ]\n"
          ]
        }
      ]
    },
    {
      "cell_type": "code",
      "source": [
        "alpha_list = []\n",
        "rmse_cv_train = []\n",
        "rmse_cv_test = []\n",
        "rmse_test = []\n",
        "\n",
        "n_splits = 3 #number of splits\n",
        "tscv = TimeSeriesSplit(n_splits = n_splits)\n",
        "\n",
        "for alpha in np.linspace(0,1,11):\n",
        "  cv_train_score = 0\n",
        "  cv_test_score = 0\n",
        "  \n",
        "  for train_index, test_index in tscv.split(train):\n",
        "    cv_train, cv_test = train[train_index], train[test_index]\n",
        "    model = SimpleExpSmoothing(cv_train).fit(smoothing_level = alpha, optimized = False)\n",
        "    cv_train_pred = model.predict(start = 0, end = len(cv_train)-1)\n",
        "    cv_test_pred = model.forecast(steps = len(cv_test))\n",
        "    \n",
        "    cv_train_score += np.sqrt(mean_squared_error(cv_train, cv_train_pred))\n",
        "    cv_test_score += np.sqrt(mean_squared_error(cv_test, cv_test_pred))\n",
        "\n",
        "  alpha_list.append(alpha)\n",
        "  rmse_cv_train.append(cv_train_score/n_splits)\n",
        "  rmse_cv_test.append(cv_test_score/n_splits)\n",
        "  \n",
        "  model = SimpleExpSmoothing(train).fit(smoothing_level = alpha, optimized = False)\n",
        "  rmse_test.append(np.sqrt(mean_squared_error(test, model.forecast(steps = len(test)))))\n",
        "  \n"
      ],
      "metadata": {
        "id": "3nSA9lhlM-B1"
      },
      "execution_count": null,
      "outputs": []
    },
    {
      "cell_type": "code",
      "source": [
        "plt.plot(alpha_list, rmse_cv_train, label = \"rmse_cv_train\")\n",
        "plt.plot(alpha_list, rmse_cv_test, label = \"rmse_cv_test\")\n",
        "plt.plot(alpha_list, rmse_test, label = \"rmse_test\")\n",
        "plt.legend()\n",
        "plt.show()"
      ],
      "metadata": {
        "colab": {
          "base_uri": "https://localhost:8080/",
          "height": 265
        },
        "id": "kp4QniCdQakH",
        "outputId": "99dab0b0-f64b-4fe8-cc1d-ab67c2913c6a"
      },
      "execution_count": null,
      "outputs": [
        {
          "output_type": "display_data",
          "data": {
            "text/plain": [
              "<Figure size 432x288 with 1 Axes>"
            ],
            "image/png": "[encoded data removed]"
          },
          "metadata": {
            "needs_background": "light"
          }
        }
      ]
    },
    {
      "cell_type": "code",
      "source": [
        "print(\" #_# \"*25)"
      ],
      "metadata": {
        "colab": {
          "base_uri": "https://localhost:8080/"
        },
        "id": "axKpg9hOZoPA",
        "outputId": "7009e94e-4eb9-4451-d305-2c061e371385"
      },
      "execution_count": null,
      "outputs": [
        {
          "output_type": "stream",
          "name": "stdout",
          "text": [
            " #_#  #_#  #_#  #_#  #_#  #_#  #_#  #_#  #_#  #_#  #_#  #_#  #_#  #_#  #_#  #_#  #_#  #_#  #_#  #_#  #_#  #_#  #_#  #_#  #_# \n"
          ]
        }
      ]
    },
    {
      "cell_type": "code",
      "source": [
        "import numpy as np\n",
        "import pandas as pd\n",
        "from sklearn.model_selection import TimeSeriesSplit\n",
        "from sklearn.metrics import mean_squared_error"
      ],
      "metadata": {
        "id": "fWCEIcami9nI"
      },
      "execution_count": 11,
      "outputs": []
    },
    {
      "cell_type": "code",
      "source": [
        "df = pd.read_csv(r\"https://raw.githubusercontent.com/Apress/hands-on-time-series-analylsis-python/master/Data/FB.csv\")"
      ],
      "metadata": {
        "id": "yR128mpni3XQ"
      },
      "execution_count": 3,
      "outputs": []
    },
    {
      "cell_type": "code",
      "source": [
        "X = df['Close']\n",
        "split_point = -30\n",
        "train = X.iloc[:split_point]\n",
        "test = X.iloc[split_point:]"
      ],
      "metadata": {
        "id": "BLUv5e6ijBz9"
      },
      "execution_count": 5,
      "outputs": []
    },
    {
      "cell_type": "code",
      "source": [
        "nSplits = 3\n",
        "tscv = TimeSeriesSplit(n_splits= nSplits)\n",
        "\n",
        "for alpha in np.linspace(0,1,11):\n",
        "  train_score = 0;\n",
        "  test_score = 0;\n",
        "\n",
        "  for train_index, test_index in tscv.split(train):\n",
        "    cv_train, cv_test = train[train_index], train[test_index]\n",
        "\n",
        "    model = SimpleExpSmoothing(cv_train).fit(smoothing_level = alpha, optimized = False)\n",
        "    cv_train_pred = model.predict(start = 0, end = len(cv_train)-1)\n",
        "    cv_test_pred = model.forecast(len(cv_test))\n",
        "\n",
        "    train_score += np.sqrt(mean_squared_error(cv_train, cv_train_pred)) \n",
        "    test_score += np.sqrt(mean_squared_error(cv_test, cv_test_pred))   \n",
        "\n",
        "  "
      ],
      "metadata": {
        "id": "V3XVLDHjjXPU"
      },
      "execution_count": null,
      "outputs": []
    }
  ]
}